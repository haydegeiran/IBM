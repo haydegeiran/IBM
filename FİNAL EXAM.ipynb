{
 "cells": [
  {
   "cell_type": "markdown",
   "id": "83e8de48-3a5c-4952-af44-de681725fca0",
   "metadata": {
    "tags": []
   },
   "source": [
    "# My Jupyter Notebook on IBM Watson Studio"
   ]
  },
  {
   "cell_type": "markdown",
   "id": "9f303875-562c-4981-9861-a43a82c3e97e",
   "metadata": {},
   "source": [
    "# Onur sen\n"
   ]
  },
  {
   "cell_type": "markdown",
   "id": "f922b898-b29a-4490-aefc-f13498dab72d",
   "metadata": {},
   "source": [
    "Iam interested in Data Science because I see new scientific contributions will become basis of the progress of DATA."
   ]
  },
  {
   "cell_type": "markdown",
   "id": "f8a04485-69d1-4efb-88ae-9e27151d1360",
   "metadata": {},
   "source": [
    "# The below should print \"Hello World\"\n"
   ]
  },
  {
   "cell_type": "code",
   "execution_count": 4,
   "id": "fd8467ba-4037-44ee-85de-a2098a29b418",
   "metadata": {},
   "outputs": [
    {
     "name": "stdout",
     "output_type": "stream",
     "text": [
      "Hello World\n"
     ]
    }
   ],
   "source": [
    "print(\"Hello World\")"
   ]
  },
  {
   "cell_type": "code",
   "execution_count": null,
   "id": "06c1ba0b-3f3f-4ad9-8db0-ef125161c7b9",
   "metadata": {},
   "outputs": [],
   "source": [
    "~İT is the End~\n",
    "[blue_text](https://www.google.com/)\n"
   ]
  }
 ],
 "metadata": {
  "kernelspec": {
   "display_name": "Python",
   "language": "python",
   "name": "conda-env-python-py"
  },
  "language_info": {
   "codemirror_mode": {
    "name": "ipython",
    "version": 3
   },
   "file_extension": ".py",
   "mimetype": "text/x-python",
   "name": "python",
   "nbconvert_exporter": "python",
   "pygments_lexer": "ipython3",
   "version": "3.7.12"
  }
 },
 "nbformat": 4,
 "nbformat_minor": 5
}
